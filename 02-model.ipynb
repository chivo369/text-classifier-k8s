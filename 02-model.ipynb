{
 "cells": [
  {
   "cell_type": "code",
   "execution_count": 98,
   "id": "d08a1071",
   "metadata": {},
   "outputs": [],
   "source": [
    "import pandas as pd\n",
    "import nltk\n",
    "import re\n",
    "import string\n",
    "from nltk.stem import WordNetLemmatizer"
   ]
  },
  {
   "cell_type": "code",
   "execution_count": 99,
   "id": "941bd194",
   "metadata": {},
   "outputs": [],
   "source": [
    "df_train = pd.read_csv('train_data.csv')\n",
    "df_test = pd.read_csv('test_data.csv')"
   ]
  },
  {
   "cell_type": "markdown",
   "id": "291cb16b",
   "metadata": {},
   "source": [
    "### Stop words removal and wordnet lemmatizer"
   ]
  },
  {
   "cell_type": "code",
   "execution_count": 100,
   "id": "d0288fd2",
   "metadata": {},
   "outputs": [],
   "source": [
    "stopwords = nltk.corpus.stopwords.words('english')\n",
    "wordnet_lemmatizer = WordNetLemmatizer()"
   ]
  },
  {
   "cell_type": "code",
   "execution_count": 101,
   "id": "07f86369",
   "metadata": {},
   "outputs": [],
   "source": [
    "def _clean_text(sentence):\n",
    "    \"\"\"\n",
    "    method to clean text\n",
    "    \"\"\"\n",
    "    # lower case\n",
    "    sentence = sentence.lower()\n",
    "\n",
    "    # remove special characters\n",
    "    sentence = \"\".join([i for i in sentence if i not in string.punctuation])\n",
    "\n",
    "    tokens = sentence.split()\n",
    "\n",
    "    # stop word removal\n",
    "    clean_text = [i for i in tokens if i not in stopwords]\n",
    "\n",
    "    # lemma form\n",
    "    lemm_text = \" \".join([wordnet_lemmatizer.lemmatize(word) for word in clean_text])\n",
    "    return lemm_text"
   ]
  },
  {
   "cell_type": "markdown",
   "id": "93f919b4",
   "metadata": {},
   "source": [
    "### Clean both input and output text"
   ]
  },
  {
   "cell_type": "code",
   "execution_count": 102,
   "id": "cf47558a",
   "metadata": {},
   "outputs": [],
   "source": [
    "df_train['new_input'] = df_train['input'].apply(lambda x: _clean_text(x))\n",
    "df_test['new_input'] = df_test['input'].apply(lambda x: _clean_text(x))"
   ]
  },
  {
   "cell_type": "markdown",
   "id": "42a1e00c",
   "metadata": {},
   "source": [
    "### Train and Test Data"
   ]
  },
  {
   "cell_type": "code",
   "execution_count": 103,
   "id": "b0ae4677",
   "metadata": {},
   "outputs": [],
   "source": [
    "X_train = df_train['input']\n",
    "y_train = df_train['label']\n",
    "\n",
    "X_test = df_test['input']\n",
    "y_test = df_test['label']"
   ]
  },
  {
   "cell_type": "markdown",
   "id": "c9c46019",
   "metadata": {},
   "source": [
    "### Pipeline for Tfidf vectorizer and SVM model"
   ]
  },
  {
   "cell_type": "code",
   "execution_count": 104,
   "id": "5f7f7aae",
   "metadata": {},
   "outputs": [],
   "source": [
    "from sklearn.pipeline import Pipeline\n",
    "from sklearn.feature_extraction.text import TfidfVectorizer\n",
    "from sklearn.svm import LinearSVC"
   ]
  },
  {
   "cell_type": "code",
   "execution_count": 105,
   "id": "f7d5856e",
   "metadata": {},
   "outputs": [],
   "source": [
    "clf_lsvc = Pipeline([('tfidf', TfidfVectorizer()),\n",
    "                     ('clf', LinearSVC()),\n",
    "])"
   ]
  },
  {
   "cell_type": "code",
   "execution_count": 106,
   "id": "7b5bb33f",
   "metadata": {},
   "outputs": [
    {
     "data": {
      "text/plain": [
       "Pipeline(steps=[('tfidf', TfidfVectorizer()), ('clf', LinearSVC())])"
      ]
     },
     "execution_count": 106,
     "metadata": {},
     "output_type": "execute_result"
    }
   ],
   "source": [
    "clf_lsvc.fit(X_train, y_train)"
   ]
  },
  {
   "cell_type": "code",
   "execution_count": 107,
   "id": "c48bf187",
   "metadata": {},
   "outputs": [],
   "source": [
    "predictions = text_clf_lsvc.predict(X_test)"
   ]
  },
  {
   "cell_type": "code",
   "execution_count": 108,
   "id": "858075bf",
   "metadata": {},
   "outputs": [],
   "source": [
    "from sklearn.metrics import classification_report, confusion_matrix, ConfusionMatrixDisplay"
   ]
  },
  {
   "cell_type": "code",
   "execution_count": 111,
   "id": "e6e7091b",
   "metadata": {},
   "outputs": [
    {
     "name": "stdout",
     "output_type": "stream",
     "text": [
      "              precision    recall  f1-score   support\n",
      "\n",
      "           0       0.92      0.93      0.93       581\n",
      "           1       0.89      0.94      0.92       695\n",
      "           2       0.82      0.72      0.77       159\n",
      "           3       0.89      0.87      0.88       275\n",
      "           4       0.89      0.82      0.85       224\n",
      "           5       0.74      0.65      0.69        66\n",
      "\n",
      "    accuracy                           0.89      2000\n",
      "   macro avg       0.86      0.82      0.84      2000\n",
      "weighted avg       0.89      0.89      0.89      2000\n",
      "\n"
     ]
    }
   ],
   "source": [
    "print(classification_report(y_test,predictions))"
   ]
  },
  {
   "cell_type": "code",
   "execution_count": 110,
   "id": "07888869",
   "metadata": {},
   "outputs": [
    {
     "data": {
      "text/plain": [
       "<sklearn.metrics._plot.confusion_matrix.ConfusionMatrixDisplay at 0x7f5cb5538b50>"
      ]
     },
     "execution_count": 110,
     "metadata": {},
     "output_type": "execute_result"
    },
    {
     "data": {
      "image/png": "[encoded data removed]",
      "text/plain": [
       "<Figure size 432x288 with 2 Axes>"
      ]
     },
     "metadata": {
      "needs_background": "light"
     },
     "output_type": "display_data"
    }
   ],
   "source": [
    "cm = confusion_matrix(y_test, predictions)\n",
    "ConfusionMatrixDisplay(cm).plot()"
   ]
  },
  {
   "cell_type": "code",
   "execution_count": null,
   "id": "984d3d0d",
   "metadata": {},
   "outputs": [],
   "source": []
  }
 ],
 "metadata": {
  "kernelspec": {
   "display_name": "Python 3",
   "language": "python",
   "name": "python3"
  },
  "language_info": {
   "codemirror_mode": {
    "name": "ipython",
    "version": 3
   },
   "file_extension": ".py",
   "mimetype": "text/x-python",
   "name": "python",
   "nbconvert_exporter": "python",
   "pygments_lexer": "ipython3",
   "version": "3.8.8"
  }
 },
 "nbformat": 4,
 "nbformat_minor": 5
}
